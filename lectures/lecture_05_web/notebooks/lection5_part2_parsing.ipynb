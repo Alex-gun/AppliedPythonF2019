{
 "cells": [
  {
   "cell_type": "markdown",
   "metadata": {},
   "source": [
    "##### Заголовки HTTP — это строки в HTTP-сообщении, содержащие разделённую двоеточием пару имя-значение. Заголовки должны отделяться от тела сообщения хотя бы одной пустой строкой."
   ]
  },
  {
   "cell_type": "raw",
   "metadata": {},
   "source": [
    "# запрос\n",
    "\n",
    "GET /tutorials/other/top-20-mysql-best-practices/ HTTP/1.1\n",
    "Host: net.tutsplus.com\n",
    "User-Agent: Mozilla/5.0 (Windows; U; Windows NT 6.1; en-US; rv:1.9.1.5) Gecko/20091102 Firefox/3.5.5 (.NET CLR 3.5.30729)\n",
    "Accept: text/html,application/xhtml+xml,application/xml;q=0.9,*/*;q=0.8\n",
    "Accept-Language: en-us,en;q=0.5\n",
    "Accept-Encoding: gzip,deflate\n",
    "Accept-Charset: ISO-8859-1,utf-8;q=0.7,*;q=0.7\n",
    "Keep-Alive: 300\n",
    "Connection: keep-alive\n",
    "Cookie: PHPSESSID=r2t5uvjq435r4q7ib3vtdjq120\n",
    "Pragma: no-cache\n",
    "Cache-Control: no-cache"
   ]
  },
  {
   "cell_type": "raw",
   "metadata": {},
   "source": [
    "# ответ \n",
    "\n",
    "HTTP/1.x 200 OK\n",
    "Transfer-Encoding: chunked\n",
    "Date: Sat, 28 Nov 2009 04:36:25 GMT\n",
    "Server: LiteSpeed\n",
    "Connection: close\n",
    "X-Powered-By: W3 Total Cache/0.8\n",
    "Pragma: public\n",
    "Expires: Sat, 28 Nov 2009 05:36:25 GMT\n",
    "Etag: \"pub1259380237;gz\"\n",
    "Cache-Control: max-age=3600, public\n",
    "Content-Type: text/html; charset=UTF-8\n",
    "Last-Modified: Sat, 28 Nov 2009 03:50:37 GMT\n",
    "X-Pingback: http://net.tutsplus.com/xmlrpc.php\n",
    "Content-Encoding: gzip\n",
    "Vary: Accept-Encoding, Cookie, User-Agent\n",
    " \n",
    "<!DOCTYPE html PUBLIC \"-//W3C//DTD XHTML 1.0 Strict//EN\" \"http://www.w3.org/TR/xhtml1/DTD/xhtml1-strict.dtd\">\n",
    "<html xmlns=\"http://www.w3.org/1999/xhtml\">\n",
    "<head>\n",
    "<meta http-equiv=\"Content-Type\" content=\"text/html; charset=utf-8\" />\n",
    "<title>Top 20+ MySQL Best Practices - Nettuts+</title>\n",
    "<!-- ... rest of the html ... -->"
   ]
  },
  {
   "cell_type": "markdown",
   "metadata": {},
   "source": [
    "##### заголовки авторизации:"
   ]
  },
  {
   "cell_type": "markdown",
   "metadata": {},
   "source": [
    "https://developer.mozilla.org/ru/docs/Web/HTTP/%D0%90%D0%B2%D1%82%D0%BE%D1%80%D0%B8%D0%B7%D0%B0%D1%86%D0%B8%D1%8F#Authentication_schemes"
   ]
  },
  {
   "cell_type": "markdown",
   "metadata": {},
   "source": [
    "Нам нужен тип авторизации Bearer"
   ]
  },
  {
   "cell_type": "raw",
   "metadata": {
    "ExecuteTime": {
     "end_time": "2019-03-28T10:48:57.958492Z",
     "start_time": "2019-03-28T10:48:57.953728Z"
    }
   },
   "source": [
    "# TODO С помощью метода GET отправить на сервер запрос с заголовком 'Authorization: Bearer <your token>' на адрес /user_info\n",
    "# GET /user_info HTTP/1.1\n",
    "# Host: 127.0.0.1:5000\n",
    "# Authorization: Bearer <your token>"
   ]
  },
  {
   "cell_type": "code",
   "execution_count": null,
   "metadata": {},
   "outputs": [],
   "source": [
    "# your code here"
   ]
  },
  {
   "cell_type": "markdown",
   "metadata": {},
   "source": [
    "##### content-type header"
   ]
  },
  {
   "cell_type": "markdown",
   "metadata": {},
   "source": [
    "http://www.iana.org/assignments/media-types/media-types.xhtml#multipart"
   ]
  },
  {
   "cell_type": "markdown",
   "metadata": {},
   "source": [
    "##### отправить html"
   ]
  },
  {
   "cell_type": "code",
   "execution_count": null,
   "metadata": {},
   "outputs": [],
   "source": [
    "!pip install requests_toolbelt"
   ]
  },
  {
   "cell_type": "code",
   "execution_count": null,
   "metadata": {
    "ExecuteTime": {
     "end_time": "2019-03-28T12:16:45.917673Z",
     "start_time": "2019-03-28T12:16:44.333815Z"
    }
   },
   "outputs": [],
   "source": [
    "import requests\n",
    "from requests_toolbelt.utils.dump import dump_all\n",
    "\n",
    "s = open('text_file.txt', 'r').read().encode('utf-8')\n",
    "r = requests.post(\"https://httpbin.org/post\", headers={'Content-Type': 'text/html; charset=utf-8'}, data=s)\n",
    "print(dump_all(r).decode('utf-8'))"
   ]
  },
  {
   "cell_type": "code",
   "execution_count": null,
   "metadata": {
    "ExecuteTime": {
     "end_time": "2019-03-28T12:23:25.471156Z",
     "start_time": "2019-03-28T12:23:22.882152Z"
    }
   },
   "outputs": [],
   "source": [
    "!curl -v -d \"text_file.txt\" -X POST -H \"Content-Type: text/html; charset=utf-8\"  http://httpbin.org/post"
   ]
  },
  {
   "cell_type": "markdown",
   "metadata": {},
   "source": [
    "##### отправить multipart"
   ]
  },
  {
   "cell_type": "code",
   "execution_count": null,
   "metadata": {
    "ExecuteTime": {
     "end_time": "2019-03-28T12:09:42.948548Z",
     "start_time": "2019-03-28T12:09:42.057498Z"
    }
   },
   "outputs": [],
   "source": [
    "import json\n",
    "import requests\n",
    "from io import BytesIO\n",
    "from requests_toolbelt.multipart.encoder import MultipartEncoder\n",
    "from requests_toolbelt.utils.dump import dump_all\n",
    "\n",
    "multipart_data = MultipartEncoder(\n",
    "    fields={\n",
    "            'checksum':b'8b35228856009749645fb076cf6d2522',  \n",
    "            'image' : ('image', open('logo.svg', 'rb'), 'text/plain')\n",
    "    }\n",
    ")\n",
    "\n",
    "response = requests.post(\n",
    "    'http://httpbin.org/post', \n",
    "     data=multipart_data,\n",
    "    \n",
    "     headers={\n",
    "    'X-Date':'1512560854',\n",
    "    'Accept':'*/*',\n",
    "    'Accept-Language':'en-KZ;q=1.0, ru-KZ;q=0.9',\n",
    "    'Accept-Encoding':'gzip;q=1.0, compress;q=0.5',\n",
    "    'Connection':'keep-alive',\n",
    "    'X-Supported-Features':'post-action-33569;publish-proactive-moderation-40003;warning-on-flow-finish-500;helpcenter-form-46049',\n",
    "    'Cookie':'v=1512560568; dfp_group=9; nps_sleep=1; sessid=b2db33b2031651d263e86064df33352a.1512560620; u=26nfpud4.1fc6o2p.fm7aacmojj',\n",
    "    'user-agent': 'AVITO 21.0 (iPhone7,2; 11.0.1; en_KZ)',\n",
    "    'Content-Type': multipart_data.content_type,\n",
    "    'Content-Length': str(multipart_data.len),\n",
    "})\n",
    "\n",
    "print(dump_all(response).decode('utf-8'))"
   ]
  },
  {
   "cell_type": "markdown",
   "metadata": {},
   "source": [
    "##### То же самое курлом."
   ]
  },
  {
   "cell_type": "markdown",
   "metadata": {},
   "source": [
    "https://ec.haxx.se/http-multipart.html"
   ]
  },
  {
   "cell_type": "code",
   "execution_count": null,
   "metadata": {
    "ExecuteTime": {
     "end_time": "2019-03-28T12:38:57.038482Z",
     "start_time": "2019-03-28T12:38:55.720168Z"
    }
   },
   "outputs": [],
   "source": [
    "!curl -v -X POST -F \"image=@./logo.svg\" \\\n",
    "-F \"checksum=8b35228856009749645fb076cf6d2522\" \\\n",
    "http://httpbin.org/post"
   ]
  },
  {
   "cell_type": "code",
   "execution_count": null,
   "metadata": {},
   "outputs": [],
   "source": []
  },
  {
   "cell_type": "markdown",
   "metadata": {},
   "source": [
    "##### WSGI"
   ]
  },
  {
   "cell_type": "markdown",
   "metadata": {},
   "source": [
    "```python\n",
    "\n",
    "def simple_app(environ, start_response):\n",
    "    \"\"\"\n",
    "    (dict, callable( status: str,\n",
    "                     headers: list[(header_name: str, header_value: str)]))\n",
    "                  -> body: iterable of strings\n",
    "    \"\"\"\n",
    "    status = '200 OK'\n",
    "    response_headers = [('Content-type', 'text/plain')]\n",
    "    start_response(status, response_headers)\n",
    "    return 'Hello world!\\n'\n",
    "\n",
    "```"
   ]
  },
  {
   "cell_type": "markdown",
   "metadata": {},
   "source": [
    "https://ruhighload.com/%D0%9F%D1%80%D0%B0%D0%B2%D0%B8%D0%BB%D1%8C%D0%BD%D0%B0%D1%8F+%D0%BA%D0%BE%D0%BD%D1%84%D0%B8%D0%B3%D1%83%D1%80%D0%B0%D1%86%D0%B8%D1%8F+nginx"
   ]
  },
  {
   "cell_type": "markdown",
   "metadata": {},
   "source": [
    "https://ruhighload.com/scaling+%D0%BF%D1%80%D0%B8%D0%BB%D0%BE%D0%B6%D0%B5%D0%BD%D0%B8%D1%8F+%D0%BD%D0%B0+python%2fdjango"
   ]
  },
  {
   "cell_type": "code",
   "execution_count": null,
   "metadata": {},
   "outputs": [],
   "source": []
  },
  {
   "cell_type": "markdown",
   "metadata": {},
   "source": [
    "# Parsing"
   ]
  },
  {
   "cell_type": "code",
   "execution_count": null,
   "metadata": {
    "ExecuteTime": {
     "end_time": "2019-03-28T07:58:23.344959Z",
     "start_time": "2019-03-28T07:58:19.499255Z"
    }
   },
   "outputs": [],
   "source": [
    "!pip install requests bs4 user_agent"
   ]
  },
  {
   "cell_type": "markdown",
   "metadata": {},
   "source": [
    "https://realpython.com/python-requests/ <br>\n",
    "https://realpython.com/python-web-scraping-practical-introduction/"
   ]
  },
  {
   "cell_type": "code",
   "execution_count": null,
   "metadata": {
    "ExecuteTime": {
     "end_time": "2019-03-28T12:53:00.466586Z",
     "start_time": "2019-03-28T12:53:00.459443Z"
    }
   },
   "outputs": [],
   "source": [
    "import requests\n",
    "from bs4 import BeautifulSoup\n",
    "import json\n",
    "import re"
   ]
  },
  {
   "cell_type": "code",
   "execution_count": null,
   "metadata": {
    "ExecuteTime": {
     "end_time": "2019-03-28T12:53:01.448747Z",
     "start_time": "2019-03-28T12:53:00.972801Z"
    }
   },
   "outputs": [],
   "source": [
    "#Сделаем простой запрос, получим страничку с ленты\n",
    "r = requests.get(\"https://lenta.ru/2018/06/16/\")\n",
    "print(r.ok)\n",
    "print(r.status_code)\n",
    "print(r.cookies)"
   ]
  },
  {
   "cell_type": "code",
   "execution_count": null,
   "metadata": {
    "ExecuteTime": {
     "end_time": "2019-03-28T12:53:02.091224Z",
     "start_time": "2019-03-28T12:53:02.075208Z"
    }
   },
   "outputs": [],
   "source": [
    "print(r.text)"
   ]
  },
  {
   "cell_type": "code",
   "execution_count": null,
   "metadata": {
    "ExecuteTime": {
     "end_time": "2019-03-28T12:53:04.894888Z",
     "start_time": "2019-03-28T12:53:04.661607Z"
    }
   },
   "outputs": [],
   "source": [
    "#Попробуем запросить несуществующую страницу\n",
    "r = requests.get(\"https://lenta.ru/2018/10/32/\")\n",
    "print(r.ok)\n",
    "print(r.status_code)\n",
    "print(r.cookies)"
   ]
  },
  {
   "cell_type": "code",
   "execution_count": null,
   "metadata": {},
   "outputs": [],
   "source": [
    "print(dump_all(r).decode('utf-8'))"
   ]
  },
  {
   "cell_type": "code",
   "execution_count": null,
   "metadata": {},
   "outputs": [],
   "source": [
    "#TODO загрузите основную страницу техноатома"
   ]
  },
  {
   "cell_type": "code",
   "execution_count": null,
   "metadata": {
    "ExecuteTime": {
     "end_time": "2019-03-28T12:54:23.537766Z",
     "start_time": "2019-03-28T12:54:22.939359Z"
    }
   },
   "outputs": [],
   "source": [
    "#Создаем элемент типа soup\n",
    "r = requests.get(\"https://lenta.ru/2019/03/27\")\n",
    "soup = BeautifulSoup(r.text, \"html.parser\")"
   ]
  },
  {
   "cell_type": "code",
   "execution_count": null,
   "metadata": {
    "ExecuteTime": {
     "end_time": "2019-03-28T12:54:26.691852Z",
     "start_time": "2019-03-28T12:54:26.671344Z"
    }
   },
   "outputs": [],
   "source": [
    "#Найдем элементы в теге div. При этом будут найдены все теги, любой вложенности\n",
    "print(soup.find_all('div')[2])"
   ]
  },
  {
   "cell_type": "code",
   "execution_count": null,
   "metadata": {
    "ExecuteTime": {
     "end_time": "2019-03-28T12:54:35.216299Z",
     "start_time": "2019-03-28T12:54:35.205178Z"
    }
   },
   "outputs": [],
   "source": [
    "print(soup.find_all('div')[0].attrs)"
   ]
  },
  {
   "cell_type": "code",
   "execution_count": null,
   "metadata": {
    "ExecuteTime": {
     "end_time": "2019-03-28T12:54:36.596690Z",
     "start_time": "2019-03-28T12:54:36.522772Z"
    }
   },
   "outputs": [],
   "source": [
    "#Найдем все элементы под тегом div, у которых атрибут класс:titles\n",
    "soup.find_all(\"div\", attrs={\"class\": [\"titles\"]})"
   ]
  },
  {
   "cell_type": "code",
   "execution_count": null,
   "metadata": {
    "ExecuteTime": {
     "end_time": "2019-03-28T12:56:05.985001Z",
     "start_time": "2019-03-28T12:56:05.735550Z"
    }
   },
   "outputs": [],
   "source": [
    "print(soup.find_all(\"div\", attrs={\"class\": [\"titles\"]})[2])\n",
    "print()\n",
    "print(soup.find_all(\"div\", attrs={\"class\": [\"titles\"]})[2].find('a'))\n",
    "print()\n",
    "print(soup.find_all(\"div\", attrs={\"class\": [\"titles\"]})[2].find('a').attrs)\n",
    "print()\n",
    "print(soup.find_all(\"div\", attrs={\"class\": [\"titles\"]})[2].find('a')['href'])\n",
    "print()\n",
    "print(soup.find_all(\"div\", attrs={\"class\": [\"titles\"]})[2].find('a').text)"
   ]
  },
  {
   "cell_type": "code",
   "execution_count": null,
   "metadata": {},
   "outputs": [],
   "source": [
    "#TODO сохранить все ссылки в словарь вида: {href: title}"
   ]
  },
  {
   "cell_type": "code",
   "execution_count": null,
   "metadata": {},
   "outputs": [],
   "source": []
  },
  {
   "cell_type": "code",
   "execution_count": null,
   "metadata": {},
   "outputs": [],
   "source": []
  },
  {
   "cell_type": "markdown",
   "metadata": {},
   "source": [
    "### Сложнее - AVITO"
   ]
  },
  {
   "cell_type": "code",
   "execution_count": null,
   "metadata": {
    "ExecuteTime": {
     "end_time": "2019-03-28T12:59:49.577845Z",
     "start_time": "2019-03-28T12:59:49.541292Z"
    }
   },
   "outputs": [],
   "source": [
    "def get_product_info_avito(url):\n",
    "    product_page = requests.get(url)\n",
    "    soup = BeautifulSoup(product_page.text, \"html.parser\")\n",
    "    \n",
    "    title = re.findall(r\"(?=content=\\\"([^\\\"]*)\\\")\",\n",
    "                       str(soup.find(\"meta\", attrs={\"name\":\"mrc__share_title\"})), re.UNICODE)[0]\n",
    "    \n",
    "    if title.startswith(u\"Объявление на Avito -\"):\n",
    "        title = title[21:]\n",
    "        \n",
    "    descr = re.findall(r\"(?=content=\\\"([^\\\"]*)\\\")\",\n",
    "                       str(soup.find(\"meta\", attrs={\"name\":\"mrc__share_description\"})), re.UNICODE)[0]\n",
    "    return url, title, descr\n",
    "\n",
    "\n",
    "def get_smilar_avito(url):\n",
    "    headers = {u\"accept\": u\"*/*\", u\"accept-encoding\": u\"gzip, deflate, br\",\n",
    "           u\"accept-language\": u\"ru-RU,ru;q=0.9,en-US;q=0.8,en;q=0.7\",\n",
    "           u\"cookie\": u\"u=26m3i302.1fc6nq6.flumvzf17n; buyer_location_id=637640; abp=1; _ga=GA1.2.1386374517.1519811174; _vwo_uuid_v2=D5AF40B1213C5F49AEE8A45D8584418ED|06e85eceee6cdc4810096a7268f54acb; cto_lwid=85c9fbb1-8918-4cc4-a91d-2a757134e844; _vis_opt_s=1%7C; _vis_opt_test_cookie=1; _ym_uid=1519811174428571120; _vwo_uuid=D5AF40B1213C5F49AEE8A45D8584418ED; __gads=ID=c16722fa56933ba1:T=1519811174:S=ALNI_MYLAba7KfXbX-Amt7ypPSVfyyTdzA; _vis_opt_exp_46_exclude=1; __utma=99926606.1386374517.1519811174.1521126280.1521126280.1; __utmc=99926606; __utmz=99926606.1521126280.1.1.utmcsr=(direct)|utmccn=(direct)|utmcmd=(none); dfp_group=52; _vwo_ds=3%3Aa_0%2Ct_0%3A0%241526386623%3A47.11855471%3A%3A%3A18_0%2C12_0; sessid=bbc4979ea3347bd02e9b3ed7349589c7.1527492578; _gid=GA1.2.91958680.1527492579; _ym_isad=1; f=5.673c10cb09ba31f34b5abdd419952845a68643d4d8df96e9a68643d4d8df96e9a68643d4d8df96e9ba029cd346349f36c1e8912fd5a48d02c1e8912fd5a48d02c1e8912fd5a48d02c1e8912fd5a48d02c1e8912fd5a48d02c1e8912fd5a48d0246b8ae4e81acb9fa143114829cf33ca746b8ae4e81acb9fa46b8ae4e81acb9fae992ad2cc54b8aa82351fe598a5894ec615ab5228c34303140e3fb81381f3591fed88e598638463b2da10fb74cac1eab2da10fb74cac1eab2da10fb74cac1eab2da10fb74cac1eab2da10fb74cac1eab2da10fb74cac1eab2da10fb74cac1eab2da10fb74cac1eab2da10fb74cac1eab2da10fb74cac1eab2da10fb74cac1eab2da10fb74cac1eabc6c679871524fbf7ddc1bb7967f85dcbbd0ca7a45a8813cec5b922a937441bee49f5ff0743e01b943fdc85926d4eb0def5a18441d6f5f811652c8d9bab9891ff60768b50dd5e12c36a95541ff881623729cd2db18e763082465d5650ed2fd5c1685428d00dc691fa9e82118971f2ed6494d66450ac1e729244734ef48a8669163de19da9ed218fe23de19da9ed218fe2da5ad592e16af4d7e45e6a89df371af55cc35db011f710a1998c47e34a42c61a; _vis_opt_exp_74_exclude=1; _vis_opt_exp_71_exclude=1; _vis_opt_exp_69_exclude=1; v=1527504434; nps_sleep=1; sx=H4sIAAAAAAACA53PUW7CMAyA4bv4mQcndcHtbTYnBMkBb%2FXaVKDenTJp0p65wPfrf8BAOFzmPNVZBBs5o6ApFYPxAQuM0E3f%2BJPz2iVUNhZWdSVmc1FuBQ6QYQx9PPUc%2Bxi2A8T1g76W83W9XZ0EtTibtqL6HkkvcpbAHd5iUkLWgu5SmjX%2FI2v4rCWJ1DvRPqFY0Hy39jY2b%2F%2FIAbn7JZeUZUp1rkcjdTHCpk5vkTEMtG1PS1Phf00BAAA%3D; isHeartsEnabled=0; _nfh=3cef57cbf431e38a89658bc44a326af9; _gat_UA-2546784-1=1\",\n",
    "           u\"referer\": url,\n",
    "           u\"user-agent\": \"Mozilla/5.0 (X11; Linux x86_64) AppleWebKit/537.36 (KHTML, like Gecko) Chrome/66.0.3359.181 Safari/537.36\",\n",
    "           u\"x-requested-with\": \"XMLHttpRequest\"}\n",
    "    \n",
    "    pr_id = url.split(\"_\")[-1]\n",
    "    \n",
    "    similars = requests.get(f\"https://www.avito.ru/web/2/items/{pr_id}/complementary\", headers=headers)\n",
    "    \n",
    "    sim_urls = []\n",
    "    for i, json_part in enumerate(similars.json()['blocks'][0]['items']):\n",
    "        sim_urls.append((json_part['date'], json_part['title'], (f\"https://www.avito.ru/{json_part['url']}\")))\n",
    "        \n",
    "    return sim_urls"
   ]
  },
  {
   "cell_type": "code",
   "execution_count": null,
   "metadata": {},
   "outputs": [],
   "source": [
    "#TODO Попробовать загрузить похожие и информацию об 1 продукте с авито"
   ]
  },
  {
   "cell_type": "code",
   "execution_count": null,
   "metadata": {},
   "outputs": [],
   "source": []
  },
  {
   "cell_type": "code",
   "execution_count": null,
   "metadata": {},
   "outputs": [],
   "source": []
  },
  {
   "cell_type": "code",
   "execution_count": null,
   "metadata": {
    "ExecuteTime": {
     "end_time": "2019-03-28T13:02:53.462522Z",
     "start_time": "2019-03-28T13:02:32.810408Z"
    }
   },
   "outputs": [],
   "source": [
    "#Создадим список проксей и проверим их доступность\n",
    "\n",
    "from time import sleep\n",
    "from user_agent import generate_user_agent\n",
    "import random\n",
    "import requests\n",
    "\n",
    "proxies_list = [{'http':'http://'+i} for i in ['67.149.217.254:10200',\n",
    "                '64.20.74.24:45554','62.37.237.101:8080', '180.234.206.77:8080',\n",
    "                '78.11.85.13:8080', '109.188.81.101:8080', '97.77.49.151:45554',\n",
    "                '139.59.17.113:8080', '191.179.147.46:11421', '111.76.129.223:808',\n",
    "                '111.68.99.42:8080', '80.241.219.66:3128', '189.16.249.114:8080',\n",
    "                '201.20.94.106:8080', '216.229.120.173:45554',\n",
    "                '116.58.247.31:3128', '103.9.115.142:3128',\n",
    "                '82.164.99.193:10200', '80.188.79.138:8080',\n",
    "                '36.75.113.224:8080', '1.20.204.163:8080',\n",
    "                '178.54.44.24:8080', '65.182.136.153:45554',\n",
    "                '203.142.81.205:8080', '42.202.35.185:8118', '66.162.122.24:8080']]\n",
    "\n",
    "for i in range(len(proxies_list)):\n",
    "    sleep(random.random())\n",
    "    assert 200 == requests.get('https://yandex.ru', \n",
    "                               headers={'User-Agent': generate_user_agent()},\n",
    "                               proxies=proxies_list[i]).status_code\n",
    "    \n",
    "print ('all_proxies_are_worked!\\n\\n')"
   ]
  },
  {
   "cell_type": "code",
   "execution_count": null,
   "metadata": {},
   "outputs": [],
   "source": [
    "from functools import wraps\n",
    "\n",
    "def get_proxy():\n",
    "    return proxies_list[random.randint(0, len(proxies_list) - 1)]\n",
    "\n",
    "#TODO сделаем декоратор, который будет генерировать случайную задержку на исполнение функции\n",
    "def delay_decorator(func):\n",
    "    pass\n",
    "\n",
    "# TODO Модернизируем функцию, которая парсит похожие. \n",
    "# Будем генерировать user-agent, не будем передавать cookies\n",
    "# используем случайный прокси сервер. Обернем в декоратор задержки\n",
    "@delay_decorator\n",
    "def get_smilar_avito(url):\n",
    "    pass"
   ]
  },
  {
   "cell_type": "code",
   "execution_count": null,
   "metadata": {},
   "outputs": [],
   "source": []
  },
  {
   "cell_type": "markdown",
   "metadata": {},
   "source": [
    "## Самостоятельное изучение, кому интересно"
   ]
  },
  {
   "cell_type": "markdown",
   "metadata": {},
   "source": [
    "##### Серп яндекса"
   ]
  },
  {
   "cell_type": "code",
   "execution_count": null,
   "metadata": {
    "ExecuteTime": {
     "end_time": "2019-03-28T13:06:26.767924Z",
     "start_time": "2019-03-28T13:06:26.762996Z"
    }
   },
   "outputs": [],
   "source": [
    "url = 'https://yandex.ru/images/search?cbir_id=1771173%2FsmYeeP3vhTQK2Qg_XaoULQ&rpt=imageview&from='"
   ]
  },
  {
   "cell_type": "code",
   "execution_count": null,
   "metadata": {
    "ExecuteTime": {
     "end_time": "2019-03-28T13:06:27.440795Z",
     "start_time": "2019-03-28T13:06:27.430372Z"
    }
   },
   "outputs": [],
   "source": [
    "import requests\n",
    "import os\n",
    "import glob\n",
    "from collections import defaultdict\n",
    "\n",
    "import pickle\n",
    "from bs4 import BeautifulSoup\n",
    "from user_agent import generate_user_agent"
   ]
  },
  {
   "cell_type": "code",
   "execution_count": null,
   "metadata": {
    "ExecuteTime": {
     "end_time": "2019-03-28T13:06:28.074031Z",
     "start_time": "2019-03-28T13:06:27.898516Z"
    }
   },
   "outputs": [],
   "source": [
    "resp = requests.get(url)\n",
    "\n",
    "serp = resp.content\n",
    "\n",
    "with open('1.html', 'wb') as fout:\n",
    "    fout.write(serp)\n",
    "    "
   ]
  },
  {
   "cell_type": "raw",
   "metadata": {},
   "source": []
  },
  {
   "cell_type": "code",
   "execution_count": null,
   "metadata": {
    "ExecuteTime": {
     "end_time": "2019-03-28T13:06:53.352308Z",
     "start_time": "2019-03-28T13:06:53.339807Z"
    }
   },
   "outputs": [],
   "source": [
    "from user_agent import generate_user_agent\n",
    "from time import sleep\n",
    "import numpy as np\n",
    "import requests\n",
    "\n",
    "proxies_list = [{'http':'http://'+i} for i in ['67.149.217.254:10200',\n",
    "                '64.20.74.24:45554','62.37.237.101:8080', '180.234.206.77:8080',\n",
    "                '78.11.85.13:8080', '109.188.81.101:8080', '97.77.49.151:45554',\n",
    "                '139.59.17.113:8080', '191.179.147.46:11421', '111.76.129.223:808',\n",
    "                '111.68.99.42:8080', '80.241.219.66:3128', '189.16.249.114:8080',\n",
    "                '201.20.94.106:8080', '216.229.120.173:45554',\n",
    "                '116.58.247.31:3128', '103.9.115.142:3128',\n",
    "                '82.164.99.193:10200', '80.188.79.138:8080',\n",
    "                '36.75.113.224:8080', '1.20.204.163:8080',\n",
    "                '178.54.44.24:8080', '65.182.136.153:45554',\n",
    "                '203.142.81.205:8080', '42.202.35.185:8118', '66.162.122.24:8080']]\n"
   ]
  },
  {
   "cell_type": "code",
   "execution_count": null,
   "metadata": {
    "ExecuteTime": {
     "end_time": "2019-03-28T07:58:31.300748Z",
     "start_time": "2019-03-28T07:58:31.291796Z"
    }
   },
   "outputs": [],
   "source": [
    "cc = 'csw=0; cpr=1; cpw=1366; cph=688; cptrid=747x1553716876295; yandexuid=7600989531484848194; _ym_uid=1484859034846044357; L=Al59BElRfwdgQWJPWVMBTH9ASGNHTFMFEh9ZOFB+aH9Q.1487070769.12953.311166.b80a45c254aed32011bcb0d57bcf1261; mda=0; yandex_login=Amir14111; my=YwA=; addruid=P15M2T8JO0t57Iz2n64g4o6Wi2; fuid01=5bf70c0a4ba842c2.GX-ztfkeGAtTU1YFd8sNGtvPibXNDIU2Hdtj3SGu1ZV5FjaTmcpxtSqGaASUgcM_sb_0K3um7pIaIgXx3bt77r33ANWNAUYJVufgXR8ZdL7HFnDgzS9zVO0dQT4BCkoM; ys_fp=form-requestid%3D1542548125959990-991489254761084160054682-sas1-9038; yabs-frequency=/4/0W0009oQMre00000/9nuuRN0pWG00/; yandex_gid=213; Session_id=3:1553504260.5.0.1487070769301:VWhdvA:7a.1|332246457.0.2|196774.749273.BBpF75UnD2U9udXEGkzVP3Iwy6I; sessionid2=3:1553504260.5.0.1487070769301:VWhdvA:7a.1|332246457.0.2|196774.842650.6nOeVzK3DFBONExXamBAapQ48uQ; zm=m-white_bender.webp.css-https%3Awww_AxpbqXI0IL4a75SCEBM9uOLHT1A%3Al; _ym_d=1553716863; _ym_isad=2; yc=1553976065.zen.cach%3A1553720461; _ym_visorc_50377519=b; ys=ymrefl.AF6E0037A509EFC4#wprid.1553716871311772-12267104160178925400313-vla1-0600; i=k9M5XVogCDiCvMM5fS0Pv4rkLV+ivsi15hhk64AHzv4oFWtILnij9wxWYUrA6VWF396zuRyseiwkCe1FEYY3H6NKuGg=; yp=1800208194.yrts.1484848194#1558906057.szm.1%3A1366x768%3A1366x688#1802430769.udn.cDpBbWlyMTQxMTE%3D#1556305902.csc.1#1565206957.yw_spc.1#1569870027.nt.sport#1554324210.ysl.1#1554815026.ygu.1#1556308872.shlos.1#1555355337.los.1#1556308872.losc.1#1553803286.nps.6857101995%3Aclose; cycada=lqiqnY1UiesQDDaRQh1y9QpQBpytms//GO5bDudjJb0='"
   ]
  },
  {
   "cell_type": "code",
   "execution_count": null,
   "metadata": {
    "ExecuteTime": {
     "end_time": "2019-03-28T13:08:36.955716Z",
     "start_time": "2019-03-28T13:08:36.948102Z"
    }
   },
   "outputs": [],
   "source": [
    "cc = 'sw=10; cpr=1; cpw=1855; cph=980; cptrid=180x1548445872999; i=no7IAtw93EsVXtWWDM8GimkuMUFgVO5BQlWHZKGSO1T1ZfX2iiBZBXnKOKF7bV4G8HGZ5NxfK0TCoISKLKqJFtqYzno=; yandexuid=888373981505396485; yp=1820756485.yrts.1505396485#1820828736.udn.cDpBbWlyMTQxMTE%3D#1569435131.szm.1%3A1920x1080%3A1855x982#1556345537.csc.1#1565852999.yw_spc.1#1569048313.nt.sport#1554472123.ysl.1#1555854586.shlos.1#1555854518.ygu.1#1553864771.nps.2773385350%3Aclose; _ym_uid=1505405436637390813; mda=0; fuid01=59baa9fd080a79b1.MqkKregPmAxKc3ufouqonILu1EhEx_lP3u33nRhHBsSQJkUfVYxhhrSgrud0OiNlHr2CBCeTMV2T0kkamTR2R6CMEZJjolz6dB6hcTJY3Yewbows6pZ4AceGAXeIkrcb; Session_id=3:1553600387.5.0.1505468736700:lCKIAO0KFFkXALqwSBEAKg:83.1|332246457.0.2|196828.387813.Vrsb95x59MxF_EOD9NPWtPwYeOA; sessionid2=3:1553600387.5.0.1505468736700:lCKIAO0KFFkXALqwSBEAKg:83.1|332246457.0.2|196828.315802.8YzVKb_hBm1TSXaVODcXUUH-AT4; L=am1RanxxYEBBZlZCRV1HVX9JRmNrBApsIgkTRFBad3d4.1505468736.13255.333766.b0e979c7d1d1142c97575fdc191f72b8; yandex_login=Amir14111; yabs-frequency=/4/10000Aaapri00000/otGzRNGq8G00/; my=YwA=; zm=m-white_bender.css-https%3Awww__Dg4jDJI5YRZ3EhG_wtSWSlZIPI%3Al; yc=1554018506.zen.cach%3A1553762903; cycada=3pRya5/Put7hOKdcxel6pov+QCzFFmwwOIIV90qH3es=; yandex_gid=213; ys=ymrefl.23F758052660D53F#wprid.1553262609235186-1262148945590474448800038-man2-6558; ys_fp=form-requestid%3D1547988880604851-452917857767138350752895-vla1-1646; _ym_d=1553759304; _ym_isad=2; device_id=\"a5fa84ae5a6987aadefb91a855ab8323b078ee5c4\"'"
   ]
  },
  {
   "cell_type": "code",
   "execution_count": null,
   "metadata": {
    "ExecuteTime": {
     "end_time": "2019-03-28T13:08:39.237294Z",
     "start_time": "2019-03-28T13:08:38.644406Z"
    }
   },
   "outputs": [],
   "source": [
    "resp = requests.get(url, headers={'User-Agent': generate_user_agent(),\n",
    "                                 'Cookie':cc}, \n",
    "                    proxies=proxies_list[3])"
   ]
  },
  {
   "cell_type": "code",
   "execution_count": null,
   "metadata": {
    "ExecuteTime": {
     "end_time": "2019-03-28T13:08:39.258318Z",
     "start_time": "2019-03-28T13:08:39.244486Z"
    }
   },
   "outputs": [],
   "source": [
    "resp.ok"
   ]
  },
  {
   "cell_type": "code",
   "execution_count": null,
   "metadata": {
    "ExecuteTime": {
     "end_time": "2019-03-28T13:08:40.929239Z",
     "start_time": "2019-03-28T13:08:40.923350Z"
    }
   },
   "outputs": [],
   "source": [
    "serp = resp.content"
   ]
  },
  {
   "cell_type": "code",
   "execution_count": null,
   "metadata": {
    "ExecuteTime": {
     "end_time": "2019-03-28T13:08:44.347030Z",
     "start_time": "2019-03-28T13:08:44.335689Z"
    }
   },
   "outputs": [],
   "source": [
    "with open('2.html', 'wb') as fout:\n",
    "    fout.write(serp)"
   ]
  },
  {
   "cell_type": "code",
   "execution_count": null,
   "metadata": {
    "ExecuteTime": {
     "end_time": "2019-03-28T13:08:44.748613Z",
     "start_time": "2019-03-28T13:08:44.737310Z"
    }
   },
   "outputs": [],
   "source": [
    "serp"
   ]
  },
  {
   "cell_type": "code",
   "execution_count": null,
   "metadata": {
    "ExecuteTime": {
     "end_time": "2019-03-28T13:09:24.090387Z",
     "start_time": "2019-03-28T13:09:23.920684Z"
    }
   },
   "outputs": [],
   "source": [
    "images = defaultdict(lambda: {'sim_img': [], 'tags':[]})\n",
    "\n",
    "soup = BeautifulSoup(serp, 'html.parser')\n",
    "key = None\n",
    "if (u'Похожие картинки' in soup.text) and (u'Кажется, на картинке' in soup.text):\n",
    "    for li in soup.findAll(\"li\", class_=\"similar__thumb island\"):\n",
    "        try:\n",
    "            if key is None:\n",
    "                key = li.a['href'].split('img_url=')[0].replace('/images/search?&url=http%3A//', '')\n",
    "            url = li.a['href'].split('img_url=')[1].replace('&rpt=imagelike', '').replace('https%3A//', '')\n",
    "            images[key]['sim_img'].append(url)\n",
    "        except:\n",
    "            pass\n",
    "\n",
    "    for a in soup.findAll(\"a\", class_=\"link link_theme_normal link_ajax_yes tags__tag i-bem\"):\n",
    "        images[key]['tags'].append(a.text)"
   ]
  },
  {
   "cell_type": "code",
   "execution_count": null,
   "metadata": {
    "ExecuteTime": {
     "end_time": "2019-03-28T13:09:24.343881Z",
     "start_time": "2019-03-28T13:09:24.338643Z"
    }
   },
   "outputs": [],
   "source": [
    "images"
   ]
  },
  {
   "cell_type": "code",
   "execution_count": null,
   "metadata": {
    "ExecuteTime": {
     "end_time": "2019-03-28T13:09:45.051109Z",
     "start_time": "2019-03-28T13:09:45.043218Z"
    }
   },
   "outputs": [],
   "source": [
    "from io import BytesIO\n",
    "from PIL import Image"
   ]
  },
  {
   "cell_type": "code",
   "execution_count": null,
   "metadata": {
    "ExecuteTime": {
     "end_time": "2019-03-28T13:11:19.641269Z",
     "start_time": "2019-03-28T13:11:19.268589Z"
    }
   },
   "outputs": [],
   "source": [
    "url = 'http://' + images['/images/search?from=&']['sim_img'][0].split('&')[0]\n",
    "\n",
    "print(url)\n",
    "\n",
    "response = requests.get(url)\n",
    "\n",
    "# save img\n",
    "with open('1.png', 'wb') as fout:\n",
    "    fout.write(response.content)\n",
    "\n",
    "# or use it\n",
    "img = Image.open(BytesIO(response.content))"
   ]
  },
  {
   "cell_type": "code",
   "execution_count": null,
   "metadata": {
    "ExecuteTime": {
     "end_time": "2019-03-28T13:58:18.512645Z",
     "start_time": "2019-03-28T13:58:18.204831Z"
    }
   },
   "outputs": [],
   "source": [
    "img"
   ]
  },
  {
   "cell_type": "code",
   "execution_count": null,
   "metadata": {},
   "outputs": [],
   "source": []
  },
  {
   "cell_type": "markdown",
   "metadata": {},
   "source": [
    "## Пойдем посмотрим на панду?\n",
    "\n",
    "https://pandao.ru"
   ]
  },
  {
   "cell_type": "code",
   "execution_count": null,
   "metadata": {
    "ExecuteTime": {
     "end_time": "2019-03-28T12:45:09.222124Z",
     "start_time": "2019-03-28T12:45:09.208124Z"
    }
   },
   "outputs": [],
   "source": [
    "from functools import lru_cache\n",
    "import datetime"
   ]
  },
  {
   "cell_type": "code",
   "execution_count": null,
   "metadata": {
    "ExecuteTime": {
     "end_time": "2019-03-28T13:17:45.683205Z",
     "start_time": "2019-03-28T13:17:45.618412Z"
    }
   },
   "outputs": [],
   "source": [
    "headers = {\n",
    "    'User-Agent': 'Mozila 5/0',\n",
    "}\n",
    "\n",
    "@lru_cache(maxsize=100000)\n",
    "def get_product_info(idx):\n",
    "    response = requests.get('https://pandao.ru/product/'+idx, \n",
    "                            headers=headers, \n",
    "                            proxies=proxies_list[random.randint(0, len(proxies_list) - 1 )])\n",
    "    #time.sleep(0.2)\n",
    "    if not response.ok:\n",
    "        return {'idx':idx, 'title':0, 'price':0, 'old_price':0, \n",
    "            'rating':0, 'orders':0}\n",
    "    \n",
    "    soup = BeautifulSoup(response.content, 'html.parser')\n",
    "\n",
    "    title = soup.find('div', {'class':\"product-title\"})\n",
    "    if title:\n",
    "        title = ' '.join(title.text.split())\n",
    "    else:\n",
    "        title = 'None'\n",
    "\n",
    "    price = soup.find('p', {'class':\"current-price\"})\n",
    "    if price:\n",
    "        price = float(price.attrs['content'])\n",
    "    else:\n",
    "        price = 0\n",
    "\n",
    "    rating = soup.find('span', {'class':\"sale-rating\"})\n",
    "    if rating:\n",
    "        rating = float(rating.text.split(' ')[0])\n",
    "    else:\n",
    "        rating = 0\n",
    "        \n",
    "    return {'idx':idx, 'title':title, 'price':price, \n",
    "            'rating':rating }"
   ]
  },
  {
   "cell_type": "raw",
   "metadata": {},
   "source": [
    "### с помощью чего я получил айдишники товаров - тот списко prd_ids что внизу\n",
    "\n",
    "res = []\n",
    "\n",
    "r = requests.get('https://pandao.ru/points')\n",
    "soup = BeautifulSoup(r.content, 'html.parser')\n",
    "\n",
    "for i in soup.findAll('a', {'class':\"product-item\"}):\n",
    "    res.append(i['data-id'])\n",
    "\n",
    "res"
   ]
  },
  {
   "cell_type": "code",
   "execution_count": null,
   "metadata": {
    "ExecuteTime": {
     "end_time": "2019-03-28T13:17:46.675008Z",
     "start_time": "2019-03-28T13:17:46.632925Z"
    }
   },
   "outputs": [],
   "source": [
    "prd_ids = ['0ddd2f40-39cf-4288-9c4d-1b32f2ddd142', \n",
    "'97154181-8921-48be-9397-35c2ff5f5111',\n",
    "'5a0a0808-c432-406b-ba36-382a797ae74a', '2f21e653-0fe4-4b35-867b-29eefe9a1b39',\n",
    "'0dcad2bc-226d-4e37-b602-754ac564ea50', '017a2150-d5a0-413b-9be3-0d59bdddc895',\n",
    "'464a9254-e7f4-4bde-8f09-c356e59228be', 'dd507101-c239-46ef-86c0-7d8cdb598374',\n",
    "'41ccd8d7-1514-4534-9958-beb7a1ee9797', '41ccd8d7-1514-4534-9958-beb7a1ee9797',\n",
    "'8a3ec31f-8b80-45a1-aab0-51b6425005f7', 'b80043b6-67f5-448c-8565-1a0d6c8b3449',\n",
    "'b902f630-68c0-4be5-93ec-d7d1d322c97e', '5f98612e-d999-426c-a74d-d3a2439e5ded',\n",
    "'2ea3a39f-7f96-4e45-b04a-7f7349100f6b', '65058295-d8ca-4d36-871b-e1a50247656e',\n",
    "'95414baf-0203-4c6a-9b90-f3bb9e0c3bae',\n",
    "'94bf017f-3a3c-48f2-95cf-972ab92b5c0f', 'c094fe15-b54e-445d-ba1b-a2897e9710d4',\n",
    "'126d746f-0458-4874-85e3-47d72e9bd261',\n",
    "'592d4b46-e7b5-4a06-86f8-0fda04047918', '3e5348a1-add0-410e-9ef6-5f919ca65a3f',\n",
    "'5600652c-ce34-41c1-9f57-1066eb8a0e6c', 'e4d0ea4f-fc51-4af4-b996-4479d4b06cdd',\n",
    "'2b3c649b-b7dc-462f-9b23-cf92d7d373ba',\n",
    "'cd5b75ff-010f-416f-846a-9886d935a2fc', '88c7d55b-6dff-4878-8f7b-c82a9302ea17',\n",
    "'65e2be8a-bd34-4e8b-9cf0-774d7e0e99a0',\n",
    "'bde6300a-b268-4724-ac2d-88e439acabf0', '9566efbd-b94f-42a6-b13f-eecb51a54a51',\n",
    "'e16c4a79-79e2-46ea-a0d0-9cfb863d110a',\n",
    "'43c43bb6-d9fd-4e8b-ac6c-f572cbc944d4', 'eabd6d3a-0e12-4c01-862d-8eb1e0ee67c5',\n",
    "'94c58080-3fcd-408a-8a2e-10297f61060e', 'a9fb97f1-8534-410d-bd1a-0f8341311c48',\n",
    "'e8437e9b-96b5-45fc-b2d7-27d54abfbd4e', '9af479fa-9904-419d-9289-a9f7a254b5f6',\n",
    "'3568d795-e02d-42fb-a85b-a488e01445cc',\n",
    "'43b92387-d118-4fc5-871e-6615417b1d79', 'fc2a66f4-550a-4944-b796-cc4c15ac7201',\n",
    "'96b701c9-a14f-4fa0-8a46-99ac62418598',\n",
    "'b158cc8b-279e-45c9-9b06-20ec25e1cf42', '7687608c-c3d0-48a5-893e-7a2f5a277578',\n",
    "'906c782b-119f-4398-bac6-9969b4c117ab',\n",
    "'8a708ccd-6a51-4712-bec6-912fcc2bc2d3', 'b4851d65-1e38-473c-a190-2e862f4cb8cd',\n",
    "'d456cfb8-c2da-4f89-abcc-16df65bcfb18', '51455200-78a7-4353-8f08-c90b4f149165',\n",
    "'c0e41577-42c4-4402-a89c-5418da501b8c', '90516e9b-ace8-43bf-8eca-f8df95b1f03a',\n",
    "'027f8d2f-dc8f-4dff-a5e8-87a5d3cfeb69', '14bc4955-48b1-43d3-9dc7-b18332367254',\n",
    "'17a22405-34ec-45dc-b7a5-35034b8f9346',\n",
    "'3d954a88-1534-499e-9b01-d82cca8afda3', '3eacaa93-ab98-4165-bec8-5ae96adb4df8',\n",
    "'952570e0-19c1-44af-bd6d-aa7d546986c8',\n",
    "'a27f0148-d5e6-4457-ad21-1d257f270967' , 'b82844af-d28d-4f33-9038-c9fd27bc5c24',\n",
    "'0e873862-8750-4604-9dd8-b718b1391532',\n",
    "'cc362ad5-e232-4727-87d0-1c571f1eefe1', '9c237e0b-10ac-48c1-a7fe-7bb6f72ce927',\n",
    "'e87632c9-6764-4ee5-862f-0b84b7ce2914', '14e38f1a-1d95-4238-8381-ad3c3fc2d31e',\n",
    "'4c6bc3d5-a389-4f57-9d89-f61d4eacc77b',\n",
    "'7933813d-f6a0-4352-ba4f-824bc98680a8', '32781d36-806b-45eb-bb2d-4bca80d8b6f2',\n",
    "'72cd2efc-51d9-4a45-a710-7fc62359a4d9', '4c8ac5d2-0307-462a-aaac-ba6ffe562a55',\n",
    "'81ef7c5e-d936-4f44-96d8-3a6cb87be0c4', '8f92e4b3-4d09-46f3-a24b-3da800c64c77',\n",
    "'380d96de-e974-4141-af46-2f765e5fc984', '6fd9abec-7ef8-4842-b24d-c06b4e60bc59', \n",
    "'45253494-0c26-4a21-ae11-569343c55ade',\n",
    "'fb524119-dd0c-4575-ad67-31f116c0ad5c', '0f32e154-9063-4e31-a6e6-2a5f41a8d16c',\n",
    "'06839e0e-80d7-490a-a1d1-706cb0f65837', '4fd83c9f-cd16-477c-8054-ff17b5c225c3',\n",
    "'c14c3277-f011-4da1-9d64-56ce89d6e23c',\n",
    "'9534385e-2373-48f4-9c6a-9ef1c3b02e09', '488d58b0-faa4-483a-ae4d-d541dc436483', \n",
    "'740b5673-11b1-43a8-b2cc-558e5bb9705d', '94c58080-3fcd-408a-8a2e-10297f61060e',\n",
    "'36da7efb-4f78-4325-9f4b-fc9ea2f76e3e',\n",
    "'f38acc05-d3d9-43a6-a310-e37e35a06258', '5f98612e-d999-426c-a74d-d3a2439e5ded',\n",
    "'63baf2b4-89ac-4667-ba39-e45596bdc7fc',\n",
    "'95414baf-0203-4c6a-9b90-f3bb9e0c3bae', '340c64be-c30b-4be3-83dd-e675c7ed533b',\n",
    "'39cca812-e5e7-4c76-a521-def0292fb184', '6fd9abec-7ef8-4842-b24d-c06b4e60bc59',\n",
    "'7bbe3f2c-d5ef-4f23-878c-4c9abec6c75e', '1c39cf24-1ae1-445f-b9e7-233cb102e9ce',\n",
    "'786860b0-dfb6-4a20-b2b0-f40f69088508', '9af479fa-9904-419d-9289-a9f7a254b5f6', \n",
    "'22fba623-c746-45af-9d94-7d78f73ef031', 'a08a7522-3dfb-49cd-a682-b3c32d5538d5',\n",
    "'73b8ff53-288b-46f8-85a8-593e198ba491', '85a89ff0-a438-40fe-aa59-d47ac5353b5d',\n",
    "'955eedc1-4211-4d42-976c-0f5149a29d2a',\n",
    "'349982e9-ad32-4e27-8c68-c4e8e4e4491b', '9798f731-b4af-45f4-88aa-5798d1e84c27',\n",
    "'19b9e842-7756-4a71-a01e-081c3819aa17',\n",
    "'756ac7ba-88ce-476e-a4ba-24a175273aeb', '49b4589d-6421-4852-8d88-4eb6cb317064',\n",
    "'455f22e7-732b-478b-a412-822436c790a9'\n",
    "]"
   ]
  },
  {
   "cell_type": "code",
   "execution_count": null,
   "metadata": {
    "ExecuteTime": {
     "end_time": "2019-03-28T13:17:47.074423Z",
     "start_time": "2019-03-28T13:17:47.068698Z"
    }
   },
   "outputs": [],
   "source": [
    "len(prd_ids)"
   ]
  },
  {
   "cell_type": "code",
   "execution_count": null,
   "metadata": {
    "ExecuteTime": {
     "end_time": "2019-03-28T13:17:47.322851Z",
     "start_time": "2019-03-28T13:17:47.320378Z"
    }
   },
   "outputs": [],
   "source": [
    "# do not forget for tests !\n",
    "get_product_info.cache_clear()"
   ]
  },
  {
   "cell_type": "code",
   "execution_count": null,
   "metadata": {
    "ExecuteTime": {
     "end_time": "2019-03-28T13:18:21.077662Z",
     "start_time": "2019-03-28T13:17:47.794706Z"
    }
   },
   "outputs": [],
   "source": [
    "result = {}\n",
    "time_begin = datetime.datetime.now()\n",
    "\n",
    "for i, idx in enumerate(prd_ids):\n",
    "    data = get_product_info(idx)\n",
    "    result[data['idx']] = data\n",
    "    if i % 10 == 0:\n",
    "        print ('computed %d lines in %s' % (i, str(datetime.datetime.now() - time_begin)[:11]))\n",
    "        \n",
    "time_end = datetime.datetime.now()\n",
    "print('whole time = ', time_end-time_begin)"
   ]
  },
  {
   "cell_type": "code",
   "execution_count": null,
   "metadata": {
    "ExecuteTime": {
     "end_time": "2019-03-28T13:18:21.106796Z",
     "start_time": "2019-03-28T13:18:21.087743Z"
    }
   },
   "outputs": [],
   "source": [
    "result"
   ]
  },
  {
   "cell_type": "markdown",
   "metadata": {},
   "source": [
    "# Джонни, давай сделаем быстрее?"
   ]
  },
  {
   "cell_type": "markdown",
   "metadata": {},
   "source": [
    "![](https://johnny-service.ru/assets/templates/img/rd.jpg)"
   ]
  },
  {
   "cell_type": "markdown",
   "metadata": {},
   "source": [
    "> Капитан, у меня есть решение - асинхрощина, о которой нам говорили на прошлом занятии\n",
    "\n",
    ">> и новая стандартная либа о которой мы еще не говорили"
   ]
  },
  {
   "cell_type": "markdown",
   "metadata": {},
   "source": [
    "![](https://cdn.fishki.net/upload/post/2018/08/15/2677535/tn/d2.png)"
   ]
  },
  {
   "cell_type": "markdown",
   "metadata": {},
   "source": [
    "##### Очистить кэши!"
   ]
  },
  {
   "cell_type": "code",
   "execution_count": null,
   "metadata": {
    "ExecuteTime": {
     "end_time": "2019-03-28T13:20:31.811431Z",
     "start_time": "2019-03-28T13:20:31.805089Z"
    }
   },
   "outputs": [],
   "source": [
    "# do not forget for tests !\n",
    "\n",
    "get_product_info.cache_clear()"
   ]
  },
  {
   "cell_type": "code",
   "execution_count": null,
   "metadata": {
    "ExecuteTime": {
     "end_time": "2019-03-28T13:20:46.623394Z",
     "start_time": "2019-03-28T13:20:33.809240Z"
    }
   },
   "outputs": [],
   "source": [
    "import datetime\n",
    "import concurrent.futures\n",
    "\n",
    "CONNECTIONS = 4\n",
    "time_begin = datetime.datetime.now()\n",
    "result = {}\n",
    "\n",
    "with concurrent.futures.ThreadPoolExecutor(max_workers=CONNECTIONS) as executor:\n",
    "    \n",
    "    dicts_with_result = {\n",
    "        executor.submit(get_product_info, idx): idx for idx in prd_ids}\n",
    "    \n",
    "    for i, future in enumerate(concurrent.futures.as_completed(dicts_with_result)):\n",
    "        if i % 10 == 0:\n",
    "            print ('computed %d lines in %s' % (i, str(datetime.datetime.now() - time_begin)[:11]))\n",
    "        try:\n",
    "            data = future.result()\n",
    "            result[data['idx']] = data\n",
    "        except Exception as exc:\n",
    "            print (exc, i, future)\n",
    "        finally:\n",
    "            pass\n",
    "        \n",
    "time_end = datetime.datetime.now()\n",
    "\n",
    "print('whole time = ', time_end-time_begin)"
   ]
  },
  {
   "cell_type": "code",
   "execution_count": null,
   "metadata": {
    "ExecuteTime": {
     "end_time": "2019-03-28T13:20:46.641663Z",
     "start_time": "2019-03-28T13:20:46.626300Z"
    }
   },
   "outputs": [],
   "source": [
    "result"
   ]
  },
  {
   "cell_type": "code",
   "execution_count": null,
   "metadata": {},
   "outputs": [],
   "source": []
  },
  {
   "cell_type": "code",
   "execution_count": null,
   "metadata": {
    "ExecuteTime": {
     "end_time": "2019-03-28T13:20:57.056276Z",
     "start_time": "2019-03-28T13:20:57.052739Z"
    }
   },
   "outputs": [],
   "source": [
    "# do not forget for tests !\n",
    "get_product_info.cache_clear()"
   ]
  },
  {
   "cell_type": "code",
   "execution_count": null,
   "metadata": {
    "ExecuteTime": {
     "end_time": "2019-03-28T13:21:08.125866Z",
     "start_time": "2019-03-28T13:20:57.059015Z"
    }
   },
   "outputs": [],
   "source": [
    "CONNECTIONS = 4\n",
    "time_begin = datetime.datetime.now()\n",
    "result = {}\n",
    "\n",
    "with concurrent.futures.ProcessPoolExecutor(max_workers=CONNECTIONS) as executor:\n",
    "    \n",
    "    dicts_with_result = {executor.submit(get_product_info, idx): idx \n",
    "                   for idx in prd_ids}\n",
    "    \n",
    "    for i, future in enumerate(concurrent.futures.as_completed(dicts_with_result)):\n",
    "        if i % 10 == 0:\n",
    "            print ('computed %d lines in %s' % (i, str(datetime.datetime.now() - time_begin)[:11]))\n",
    "        try:\n",
    "            data = future.result()\n",
    "            result[data['idx']] = data\n",
    "        except Exception as exc:\n",
    "            print (exc, i, future)\n",
    "        finally:\n",
    "            pass\n",
    "        \n",
    "time_end = datetime.datetime.now()\n",
    "\n",
    "print('whole time = ', time_end-time_begin)"
   ]
  },
  {
   "cell_type": "markdown",
   "metadata": {},
   "source": [
    "##### Сравним потоки и процессы"
   ]
  },
  {
   "cell_type": "code",
   "execution_count": null,
   "metadata": {},
   "outputs": [],
   "source": []
  },
  {
   "cell_type": "code",
   "execution_count": null,
   "metadata": {},
   "outputs": [],
   "source": []
  },
  {
   "cell_type": "code",
   "execution_count": null,
   "metadata": {},
   "outputs": [],
   "source": []
  },
  {
   "cell_type": "code",
   "execution_count": null,
   "metadata": {},
   "outputs": [],
   "source": []
  },
  {
   "cell_type": "code",
   "execution_count": null,
   "metadata": {},
   "outputs": [],
   "source": []
  },
  {
   "cell_type": "code",
   "execution_count": null,
   "metadata": {
    "ExecuteTime": {
     "end_time": "2019-03-28T13:26:06.869074Z",
     "start_time": "2019-03-28T13:26:06.400779Z"
    }
   },
   "outputs": [],
   "source": [
    "!curl https://www.yandex.ru"
   ]
  },
  {
   "cell_type": "code",
   "execution_count": null,
   "metadata": {},
   "outputs": [],
   "source": []
  },
  {
   "cell_type": "code",
   "execution_count": null,
   "metadata": {},
   "outputs": [],
   "source": [
    "!curl https://www.yandex.ru"
   ]
  },
  {
   "cell_type": "code",
   "execution_count": null,
   "metadata": {
    "ExecuteTime": {
     "end_time": "2019-03-28T13:35:50.409601Z",
     "start_time": "2019-03-28T13:35:49.974796Z"
    }
   },
   "outputs": [],
   "source": [
    "!curl -o 1.json -X GET \\\n",
    "-H \"user-agent: Mozila\" \\\n",
    "-H \"Cookie:v=1512560568; dfp_group=9; nps_sleep=1;\" \\\n",
    "-H \"Accept: text/html,application/xhtml+xml,application/xml;q=0.9,*/*;q=0.8\" \\\n",
    "'https://www.avito.ru/js/similar/1290458439?offset=0' "
   ]
  },
  {
   "cell_type": "code",
   "execution_count": null,
   "metadata": {},
   "outputs": [],
   "source": [
    "!curl -v -X POST -F \"image=@./0.jpeg\" \\\n",
    "-F \"key=ZaeC8aidairahqu2Eeb1quee9einaeFieboocohX\" \\\n",
    "-F \"checksum=8b35228856009749645fb076cf6d2522\" \\\n",
    "http://httpbin.org/post"
   ]
  },
  {
   "cell_type": "code",
   "execution_count": null,
   "metadata": {},
   "outputs": [],
   "source": []
  },
  {
   "cell_type": "code",
   "execution_count": null,
   "metadata": {},
   "outputs": [],
   "source": [
    "curl -X GET\n",
    "\n",
    "curl -X POST"
   ]
  },
  {
   "cell_type": "code",
   "execution_count": null,
   "metadata": {},
   "outputs": [],
   "source": [
    "curl -F - эмулирует форму отправки через кнопку\n",
    "\n",
    "curl -d \n",
    "\n",
    "вроде как одинаковые, позволяют загружать данные через POST запрос, вместе не сочетаются\n",
    "\n",
    "-d @file\n",
    "-d \"string\"\n",
    "--data \"string\"\n",
    "\n",
    "-F name=@file\n",
    "-F name=content\n",
    "--form name=content"
   ]
  },
  {
   "cell_type": "code",
   "execution_count": null,
   "metadata": {},
   "outputs": [],
   "source": [
    "curl -v       - трассировка-дебаг"
   ]
  },
  {
   "cell_type": "code",
   "execution_count": null,
   "metadata": {},
   "outputs": [],
   "source": [
    "curl -H       - хедеры"
   ]
  },
  {
   "cell_type": "markdown",
   "metadata": {},
   "source": [
    "https://www.tutorialspoint.com/unix_commands/curl.htm"
   ]
  },
  {
   "cell_type": "code",
   "execution_count": null,
   "metadata": {},
   "outputs": [],
   "source": []
  }
 ],
 "metadata": {
  "kernelspec": {
   "display_name": "Python stuff 3.7",
   "language": "python",
   "name": "p_3.7"
  },
  "language_info": {
   "codemirror_mode": {
    "name": "ipython",
    "version": 3
   },
   "file_extension": ".py",
   "mimetype": "text/x-python",
   "name": "python",
   "nbconvert_exporter": "python",
   "pygments_lexer": "ipython3",
   "version": "3.7.4"
  }
 },
 "nbformat": 4,
 "nbformat_minor": 4
}
